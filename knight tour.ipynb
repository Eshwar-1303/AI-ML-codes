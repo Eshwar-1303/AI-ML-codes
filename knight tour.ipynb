{
 "cells": [
  {
   "cell_type": "code",
   "execution_count": null,
   "id": "51b0765d",
   "metadata": {},
   "outputs": [],
   "source": [
    "#  Chess Board is defined here\n",
    "chess_board = [[0,0,0,0,0,0,0,0],\n",
    "               [0,0,0,0,0,0,0,0],\n",
    "               [0,0,1,0,0,0,0,0],\n",
    "               [0,0,0,0,0,0,0,0],\n",
    "               [0,0,0,0,0,0,0,0],\n",
    "               [0,0,0,0,0,0,0,0],\n",
    "               [0,0,0,0,0,0,0,0],\n",
    "               [0,0,0,0,0,0,0,0]]\n",
    "\n",
    "def print_board(): #function to print the chess board\n",
    "    for i in range(8):\n",
    "        for j in range(8):\n",
    "            print(chess_board[i][j], end=\" \")\n",
    "        print(\"\\n\")\n",
    "\n",
    "\n",
    "#These are the possibilities which a knight can have, so we are checking those.\n",
    "def get_possibilities(x, y):\n",
    "    pos_x = (2, 1, 2, 1, -2, -1, -2, -1)\n",
    "    pos_y = (1, 2, -1, -2, 1, 2, -1, -2)\n",
    "    possibilities = []\n",
    "    for i in range(8):\n",
    "        if x+pos_x[i] >= 0 and x+pos_x[i] <= 7 and y+pos_y[i] >= 0 and y+pos_y[i] <= 7 and chess_board[x+pos_x[i]][y+pos_y[i]] == 0:\n",
    "            possibilities.append([x+pos_x[i], y+pos_y[i]])\n",
    "    return possibilities\n",
    "\n",
    "\n",
    "# warnsdorrf which cell has minimum possibilities.\n",
    "# Its an algorithm to check which one has least possible moves.\n",
    "def solve():\n",
    "    counter = 2\n",
    "    x = 0\n",
    "    y = 0\n",
    "    for i in range(63): #for loop 64 times\n",
    "        pos = get_possibilities(x, y) #correct position of knight\n",
    "        minimum = pos[0]\n",
    "        for p in pos:\n",
    "            if len(get_possibilities(p[0], p[1])) <= len(get_possibilities(minimum[0], minimum[1])):\n",
    "#Checking for small value correct minmum valve once complete the loop found minimum value where the place  we to chnge position knight tour at themin\n",
    "                minimum = p\n",
    "        x = minimum[0]\n",
    "        y = minimum[1]\n",
    "        chess_board[x][y] = counter\n",
    "        counter += 1\n",
    "\n",
    "solve()    \n",
    "print_board()"
   ]
  }
 ],
 "metadata": {
  "kernelspec": {
   "display_name": "Python 3 (ipykernel)",
   "language": "python",
   "name": "python3"
  },
  "language_info": {
   "codemirror_mode": {
    "name": "ipython",
    "version": 3
   },
   "file_extension": ".py",
   "mimetype": "text/x-python",
   "name": "python",
   "nbconvert_exporter": "python",
   "pygments_lexer": "ipython3",
   "version": "3.9.12"
  }
 },
 "nbformat": 4,
 "nbformat_minor": 5
}
