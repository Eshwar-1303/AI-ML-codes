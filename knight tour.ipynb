{
 "cells": [
  {
   "cell_type": "code",
   "execution_count": null,
   "id": "72dfdf30",
   "metadata": {},
   "outputs": [],
   "source": [
    "N = 8\n",
    "\n",
    "def is_valid(i, j, sol):\n",
    "    if (i>=1 and i<=N and j>=1 and j<=N):\n",
    "        if (sol[i][j]==-1):\n",
    "            return True\n",
    "        return False\n",
    "\n",
    "def knight_tour(sol, i, j, step_count, x_move, y_move):\n",
    "    if (step_count == N*N):\n",
    "        return True\n",
    "    for k in range(0, 8):\n",
    "        next_i = i+x_move[k]\n",
    "        next_j = j+y_move[k]\n",
    "        if(is_valid(next_i, next_j, sol)):\n",
    "            sol[next_i][next_j] = step_count\n",
    "            if (knight_tour(sol, next_i, next_j, step_count+1, x_move, y_move)):\n",
    "                return True\n",
    "            sol[next_i][next_j] = -1; # backtracking\n",
    "\n",
    "    return False\n",
    "\n",
    "def start_knight_tour():\n",
    "    sol = []\n",
    "\n",
    "    for i in range(0, N+1):\n",
    "        a = [0]+([-1]*N)\n",
    "        sol.append(a)\n",
    "\n",
    "    x_move = [2, 1, -1, -2, -2, -1, 1, 2]\n",
    "    y_move = [1, 2, 2, 1, -1, -2, -2, -1]\n",
    "\n",
    "    sol[1][1] = 0 # placing knight at cell(1, 1)\n",
    "    if (knight_tour(sol, 1, 1, 1, x_move, y_move)):\n",
    "        for i in range(1, N+1):\n",
    "            print(sol[i][1:])\n",
    "        return True\n",
    "    return False\n",
    "\n",
    "if __name__ == '__main__':\n",
    "    print(start_knight_tour())"
   ]
  }
 ],
 "metadata": {
  "kernelspec": {
   "display_name": "Python 3 (ipykernel)",
   "language": "python",
   "name": "python3"
  },
  "language_info": {
   "codemirror_mode": {
    "name": "ipython",
    "version": 3
   },
   "file_extension": ".py",
   "mimetype": "text/x-python",
   "name": "python",
   "nbconvert_exporter": "python",
   "pygments_lexer": "ipython3",
   "version": "3.9.12"
  }
 },
 "nbformat": 4,
 "nbformat_minor": 5
}
