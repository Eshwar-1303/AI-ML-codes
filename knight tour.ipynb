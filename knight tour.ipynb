{
 "cells": [
  {
   "cell_type": "code",
   "execution_count": 9,
   "id": "51b0765d",
   "metadata": {},
   "outputs": [
    {
     "name": "stdout",
     "output_type": "stream",
     "text": [
      "1 16 31 54 3 18 21 58 \n",
      "\n",
      "30 43 2 17 50 57 4 19 \n",
      "\n",
      "15 32 53 46 55 20 59 22 \n",
      "\n",
      "42 29 44 49 60 51 56 5 \n",
      "\n",
      "33 14 47 52 45 64 23 62 \n",
      "\n",
      "28 41 34 37 48 61 6 9 \n",
      "\n",
      "13 36 39 26 11 8 63 24 \n",
      "\n",
      "40 27 12 35 38 25 10 7 \n",
      "\n"
     ]
    }
   ],
   "source": [
    "chess_board = [[1,0,0,0,0,0,0,0],\n",
    "               [0,0,0,0,0,0,0,0],\n",
    "               [0,0,0,0,0,0,0,0],\n",
    "               [0,0,0,0,0,0,0,0],\n",
    "               [0,0,0,0,0,0,0,0],\n",
    "               [0,0,0,0,0,0,0,0],\n",
    "               [0,0,0,0,0,0,0,0],\n",
    "               [0,0,0,0,0,0,0,0]]\n",
    "\n",
    "def print_board(): #function to print the chess board\n",
    "    for i in range(8):\n",
    "        for j in range(8):\n",
    "            print(chess_board[i][j], end=\" \")\n",
    "        print(\"\\n\")\n",
    "def get_possibilities(x, y):\n",
    "    pos_x = (2, 1, 2, 1, -2, -1, -2, -1)\n",
    "    pos_y = (1, 2, -1, -2, 1, 2, -1, -2)\n",
    "    possibilities = []\n",
    "    for i in range(8):\n",
    "        if x+pos_x[i] >= 0 and x+pos_x[i] <= 7 and y+pos_y[i] >= 0 and y+pos_y[i] <= 7 and chess_board[x+pos_x[i]][y+pos_y[i]] == 0:\n",
    "            possibilities.append([x+pos_x[i], y+pos_y[i]])\n",
    "    return possibilities\n",
    "\n",
    "def solve():\n",
    "    counter = 2\n",
    "    x = 0\n",
    "    y = 0\n",
    "    for i in range(63): \n",
    "        pos = get_possibilities(x, y) \n",
    "        minimum = pos[0]\n",
    "        for p in pos:\n",
    "            if len(get_possibilities(p[0], p[1])) <= len(get_possibilities(minimum[0], minimum[1])):\n",
    "                minimum = p\n",
    "        x = minimum[0]\n",
    "        y = minimum[1]\n",
    "        chess_board[x][y] = counter\n",
    "        counter += 1\n",
    "\n",
    "solve()    \n",
    "print_board()"
   ]
  },
  {
   "cell_type": "code",
   "execution_count": null,
   "id": "775429b6",
   "metadata": {},
   "outputs": [],
   "source": []
  }
 ],
 "metadata": {
  "kernelspec": {
   "display_name": "Python 3 (ipykernel)",
   "language": "python",
   "name": "python3"
  },
  "language_info": {
   "codemirror_mode": {
    "name": "ipython",
    "version": 3
   },
   "file_extension": ".py",
   "mimetype": "text/x-python",
   "name": "python",
   "nbconvert_exporter": "python",
   "pygments_lexer": "ipython3",
   "version": "3.9.12"
  }
 },
 "nbformat": 4,
 "nbformat_minor": 5
}
