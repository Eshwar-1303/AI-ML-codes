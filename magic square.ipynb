{
 "cells": [
  {
   "cell_type": "code",
   "execution_count": null,
   "id": "9f785e2b",
   "metadata": {},
   "outputs": [],
   "source": [
    "import numpy as np\n",
    "N  = int(input(\"Enter the size:\"))\n",
    "\n",
    "magic = np.zeros((N,N), dtype=int)\n",
    "n = 1\n",
    "i= 0\n",
    "j = N//2\n",
    "\n",
    "while n <= N**2:\n",
    "    magic[i, j] = n\n",
    "    n+=1\n",
    "    x = (i-1) % N\n",
    "    y = (j+1)% N\n",
    "    if magic[x, y]:\n",
    "        i +=1\n",
    "    else:\n",
    "        i, j = x, y\n",
    "print(\"The Magic Square is:\")\n",
    "print(magic)"
   ]
  }
 ],
 "metadata": {
  "kernelspec": {
   "display_name": "Python 3 (ipykernel)",
   "language": "python",
   "name": "python3"
  },
  "language_info": {
   "codemirror_mode": {
    "name": "ipython",
    "version": 3
   },
   "file_extension": ".py",
   "mimetype": "text/x-python",
   "name": "python",
   "nbconvert_exporter": "python",
   "pygments_lexer": "ipython3",
   "version": "3.9.12"
  }
 },
 "nbformat": 4,
 "nbformat_minor": 5
}
